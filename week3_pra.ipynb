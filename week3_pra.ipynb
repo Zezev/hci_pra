{
 "cells": [
  {
   "cell_type": "code",
   "execution_count": 1,
   "metadata": {},
   "outputs": [],
   "source": [
    "import numpy as np\n",
    "import matplotlib.pylab as plt\n",
    "import scipy.io"
   ]
  },
  {
   "cell_type": "code",
   "execution_count": 2,
   "metadata": {},
   "outputs": [
    {
     "name": "stdout",
     "output_type": "stream",
     "text": [
      "<class 'dict'>\n"
     ]
    }
   ],
   "source": [
    "mat_file_name =  \"eyedata.mat\"\n",
    "mat_file = scipy.io.loadmat(mat_file_name)\n",
    "print(type(mat_file))"
   ]
  },
  {
   "cell_type": "code",
   "execution_count": 3,
   "metadata": {},
   "outputs": [
    {
     "name": "stdout",
     "output_type": "stream",
     "text": [
      "__header__\n",
      "__version__\n",
      "__globals__\n",
      "block\n",
      "trial\n",
      "eyeData\n"
     ]
    }
   ],
   "source": [
    "for i in mat_file:\n",
    "    print(i)"
   ]
  },
  {
   "cell_type": "code",
   "execution_count": 4,
   "metadata": {},
   "outputs": [
    {
     "name": "stdout",
     "output_type": "stream",
     "text": [
      "{'__header__': b'MATLAB 5.0 MAT-file Platform: nt, Created on: Thu Sep 16 09:40:33 2021', '__version__': '1.0', '__globals__': [], 'block': array([[array([[1]], dtype=uint8)]], dtype=object), 'trial': array([[array([[268]], dtype=uint16)]], dtype=object), 'eyeData': array([[array([[   521.74683544,    371.328     ],\n",
      "       [   521.74683544,    369.216     ],\n",
      "       [   518.96202532,    364.992     ],\n",
      "       ...,\n",
      "       [   246.25316456,    122.112     ],\n",
      "       [ -1126.2721519 ,   -849.916     ],\n",
      "       [-19916.29113924, -14551.752     ]])]], dtype=object)}\n"
     ]
    }
   ],
   "source": [
    "print(mat_file)"
   ]
  },
  {
   "cell_type": "code",
   "execution_count": null,
   "metadata": {},
   "outputs": [],
   "source": []
  }
 ],
 "metadata": {
  "kernelspec": {
   "display_name": "Python 3",
   "language": "python",
   "name": "python3"
  },
  "language_info": {
   "codemirror_mode": {
    "name": "ipython",
    "version": 3
   },
   "file_extension": ".py",
   "mimetype": "text/x-python",
   "name": "python",
   "nbconvert_exporter": "python",
   "pygments_lexer": "ipython3",
   "version": "3.8.5"
  }
 },
 "nbformat": 4,
 "nbformat_minor": 4
}
